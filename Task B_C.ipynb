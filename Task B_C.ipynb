{
 "cells": [
  {
   "cell_type": "code",
   "execution_count": 1,
   "metadata": {},
   "outputs": [],
   "source": [
    "import pandas as pd\n",
    "import json\n",
    "import dateutil.parser\n",
    "import numpy as np"
   ]
  },
  {
   "cell_type": "code",
   "execution_count": 2,
   "metadata": {},
   "outputs": [
    {
     "name": "stderr",
     "output_type": "stream",
     "text": [
      "c:\\users\\akshaya balamurugan\\appdata\\local\\programs\\python\\python36\\lib\\site-packages\\IPython\\core\\interactiveshell.py:2785: DtypeWarning: Columns (3,6,7) have mixed types. Specify dtype option on import or set low_memory=False.\n",
      "  interactivity=interactivity, compiler=compiler, result=result)\n",
      "c:\\users\\akshaya balamurugan\\appdata\\local\\programs\\python\\python36\\lib\\site-packages\\ipykernel_launcher.py:6: SettingWithCopyWarning: \n",
      "A value is trying to be set on a copy of a slice from a DataFrame.\n",
      "Try using .loc[row_indexer,col_indexer] = value instead\n",
      "\n",
      "See the caveats in the documentation: http://pandas.pydata.org/pandas-docs/stable/indexing.html#indexing-view-versus-copy\n",
      "  \n"
     ]
    }
   ],
   "source": [
    "data = pd.read_csv(\"data_science_exchanges_returns.csv\",sep='\\t') \n",
    "#Filtered by reason from the ecxhanges data\n",
    "returns = data.dropna(subset=['Reason Name'])\n",
    "returns[returns['Reason Name'].str.contains('_size_does_not_fit_')]\n",
    "# returns.shape - (91242, 8)\n",
    "returns['Order nr'] = returns['Order nr'].astype(np.int32)"
   ]
  },
  {
   "cell_type": "code",
   "execution_count": 64,
   "metadata": {},
   "outputs": [
    {
     "data": {
      "text/plain": [
       "4705"
      ]
     },
     "execution_count": 64,
     "metadata": {},
     "output_type": "execute_result"
    }
   ],
   "source": [
    "#Filtered conversions for Feb 1st to Feb 28th out of 62482 records from data_science_test_conversions.json\n",
    "conv_data = [json.loads(line) for line in open('transactions.json', encoding=\"utf8\")]\n",
    "len(conv_data)"
   ]
  },
  {
   "cell_type": "code",
   "execution_count": 65,
   "metadata": {},
   "outputs": [
    {
     "data": {
      "text/plain": [
       "20894"
      ]
     },
     "execution_count": 65,
     "metadata": {},
     "output_type": "execute_result"
    }
   ],
   "source": [
    "#Filtered events for Feb 1st to Feb 28th with eventType = 'size' (recommedation was made) out of 222791 records from 'data_science_test_events' with eventType = 'size'\n",
    "events_data = [json.loads(line) for line in open('events.json', encoding=\"utf8\")]\n",
    "len(events_data)"
   ]
  },
  {
   "cell_type": "code",
   "execution_count": 136,
   "metadata": {},
   "outputs": [
    {
     "name": "stdout",
     "output_type": "stream",
     "text": [
      "20894\n"
     ]
    }
   ],
   "source": [
    "#Extract SKU IDs, UIDs and recommended size from events JSON\n",
    "# events_dict={}\n",
    "events_l = []\n",
    "\n",
    "for i in range(len(events_data)):\n",
    "    temp=events_data[i]\n",
    "    try:\n",
    "        uid = temp['_source']['uid']\n",
    "        skuid= temp['_source']['response']['skuId']\n",
    "        fys = temp['_source']['response']['fys']\n",
    "        for c in range(len(fys)):\n",
    "            if fys[c]['recommended']== True:\n",
    "                rec_size = fys[c]['size']\n",
    "                break\n",
    "            else:\n",
    "                rec_size = \"NA\"\n",
    "    except:\n",
    "        print(i)\n",
    "    events_dict = {'uid':uid,'skuid':skuid,'rec_size':rec_size}\n",
    "    events_l.append(events_dict)\n",
    "\n",
    "print(len(events_l))"
   ]
  },
  {
   "cell_type": "code",
   "execution_count": 309,
   "metadata": {},
   "outputs": [
    {
     "data": {
      "text/plain": [
       "20894"
      ]
     },
     "execution_count": 309,
     "metadata": {},
     "output_type": "execute_result"
    }
   ],
   "source": [
    "events_frame = pd.DataFrame(events_l)\n",
    "events_frame.head(10)\n",
    "len(events_frame) #20894 events with recommeded size for viewed SKU ID by UID\n",
    "# events_frame"
   ]
  },
  {
   "cell_type": "code",
   "execution_count": 347,
   "metadata": {},
   "outputs": [
    {
     "name": "stdout",
     "output_type": "stream",
     "text": [
      "4705\n"
     ]
    },
    {
     "data": {
      "text/plain": [
       "{'uid': 'unknown',\n",
       " 'skuid': ['6B50EAA5D1DAB4GS', '79E9EAA7B2B538GS'],\n",
       " 'pur_size': ['International XL', 'International XL'],\n",
       " 'transaction': '221931962'}"
      ]
     },
     "execution_count": 347,
     "metadata": {},
     "output_type": "execute_result"
    }
   ],
   "source": [
    "# Extract SKU IDs, UIDs and purchased size from conversions JSON\n",
    "convs_l=[]\n",
    "\n",
    "for i_ in range(len(conv_data)):\n",
    "    skuid_=[]\n",
    "    size_=[]\n",
    "    trans_=[]\n",
    "    temp_=conv_data[i_]\n",
    "    try:\n",
    "        uid_= temp_['_source']['uid']\n",
    "        temp_1 = temp_['_source']['products']\n",
    "        trans_= temp_['_source']['transaction']\n",
    "        for i_1 in range(len(temp_1)):\n",
    "            skuid_.append(temp_1[i_1]['sku'])\n",
    "            size_.append(temp_1[i_1]['size'])\n",
    "    except:\n",
    "        print(i_)\n",
    "        skuid_.append(\"NA\")    \n",
    "        size_.append(\"NA\")\n",
    "        trans_.append(\"NA\")\n",
    "#     str_size = \",\".join(str(x) for x in size_)\n",
    "#     str_skuid = \",\".join(str(x) for x in skuid_)\n",
    "    convs_dict={'uid':uid_,'skuid':skuid_,'pur_size':size_,'transaction':trans_}\n",
    "#     convs_dict={'uid':uid_,'skuid':str_skuid,'rec_size':str_size,'transaction':trans_}\n",
    "    convs_l.append(convs_dict)\n",
    "    \n",
    "print(len(convs_l))\n",
    "convs_l[45]"
   ]
  },
  {
   "cell_type": "code",
   "execution_count": 263,
   "metadata": {},
   "outputs": [],
   "source": [
    "convs_frame = pd.DataFrame(convs_l)\n",
    "convs_frame.head(15)\n",
    "\n",
    "a = convs_frame.drop(convs_frame.columns[0], axis=1)\n",
    "# a.head(10)\n",
    "b = convs_frame.drop(convs_frame.columns[1], axis=1)\n",
    "# b.head(10)"
   ]
  },
  {
   "cell_type": "code",
   "execution_count": 266,
   "metadata": {},
   "outputs": [],
   "source": [
    "skuid_r = a.skuid.apply(pd.Series).merge(a, left_index = True, right_index = True).drop([\"skuid\"], axis = 1).melt(id_vars = ['transaction','uid'], value_name = \"skuid\").drop(\"variable\", axis = 1).dropna()\n",
    "size_r = b.pur_size.apply(pd.Series).merge(b, left_index = True, right_index = True).drop([\"pur_size\"], axis = 1).melt(id_vars = ['transaction','uid'], value_name = \"pur_size\").drop(\"variable\", axis = 1).dropna()"
   ]
  },
  {
   "cell_type": "code",
   "execution_count": 353,
   "metadata": {
    "scrolled": true
   },
   "outputs": [
    {
     "data": {
      "text/plain": [
       "8600"
      ]
     },
     "execution_count": 353,
     "metadata": {},
     "output_type": "execute_result"
    }
   ],
   "source": [
    "#8600 entries with each SKU ID, UID, transaction and Purchased Size\n",
    "conv_proc_frame = pd.concat([skuid_r,size_r],axis=1)\n",
    "conv_proc_frame = conv_proc_frame.loc[:,~conv_proc_frame.columns.duplicated()]\n",
    "conv_proc_frame.head(5)\n",
    "len(conv_proc_frame)"
   ]
  },
  {
   "cell_type": "code",
   "execution_count": 394,
   "metadata": {},
   "outputs": [
    {
     "data": {
      "text/html": [
       "<div>\n",
       "<style scoped>\n",
       "    .dataframe tbody tr th:only-of-type {\n",
       "        vertical-align: middle;\n",
       "    }\n",
       "\n",
       "    .dataframe tbody tr th {\n",
       "        vertical-align: top;\n",
       "    }\n",
       "\n",
       "    .dataframe thead th {\n",
       "        text-align: right;\n",
       "    }\n",
       "</style>\n",
       "<table border=\"1\" class=\"dataframe\">\n",
       "  <thead>\n",
       "    <tr style=\"text-align: right;\">\n",
       "      <th></th>\n",
       "      <th>rec_size</th>\n",
       "      <th>skuid</th>\n",
       "      <th>uid</th>\n",
       "      <th>transaction</th>\n",
       "      <th>pur_size</th>\n",
       "    </tr>\n",
       "  </thead>\n",
       "  <tbody>\n",
       "    <tr>\n",
       "      <th>0</th>\n",
       "      <td>UK 12</td>\n",
       "      <td>3DAA0AABEBC5BDGS</td>\n",
       "      <td>f20f9aff-650d-49d9-9e6a-f692408dd254</td>\n",
       "      <td>282242962</td>\n",
       "      <td>UK 8</td>\n",
       "    </tr>\n",
       "    <tr>\n",
       "      <th>3</th>\n",
       "      <td>NA</td>\n",
       "      <td>BAB9CAA0751876GS</td>\n",
       "      <td>0c349735-c293-4731-ae90-451b8a1da885</td>\n",
       "      <td>221356962</td>\n",
       "      <td>International M</td>\n",
       "    </tr>\n",
       "    <tr>\n",
       "      <th>10</th>\n",
       "      <td>INT S</td>\n",
       "      <td>DC36EAA41E4DE5GS</td>\n",
       "      <td>84f75922-300e-487a-b5bc-401ed94c2648</td>\n",
       "      <td>287446962</td>\n",
       "      <td>International S</td>\n",
       "    </tr>\n",
       "    <tr>\n",
       "      <th>24</th>\n",
       "      <td>INT XL</td>\n",
       "      <td>9E755AA95CCA32GS</td>\n",
       "      <td>2bee3c8f-ae5a-40c2-a3a7-39a66f26bbab</td>\n",
       "      <td>288373962</td>\n",
       "      <td>International L</td>\n",
       "    </tr>\n",
       "    <tr>\n",
       "      <th>26</th>\n",
       "      <td>NA</td>\n",
       "      <td>8262BAAD3340B1GS</td>\n",
       "      <td>047b4f95-6e0a-47f9-9d21-a731a930653c</td>\n",
       "      <td>221633962</td>\n",
       "      <td>UK 12</td>\n",
       "    </tr>\n",
       "  </tbody>\n",
       "</table>\n",
       "</div>"
      ],
      "text/plain": [
       "   rec_size             skuid                                   uid  \\\n",
       "0     UK 12  3DAA0AABEBC5BDGS  f20f9aff-650d-49d9-9e6a-f692408dd254   \n",
       "3        NA  BAB9CAA0751876GS  0c349735-c293-4731-ae90-451b8a1da885   \n",
       "10    INT S  DC36EAA41E4DE5GS  84f75922-300e-487a-b5bc-401ed94c2648   \n",
       "24   INT XL  9E755AA95CCA32GS  2bee3c8f-ae5a-40c2-a3a7-39a66f26bbab   \n",
       "26       NA  8262BAAD3340B1GS  047b4f95-6e0a-47f9-9d21-a731a930653c   \n",
       "\n",
       "   transaction         pur_size  \n",
       "0    282242962             UK 8  \n",
       "3    221356962  International M  \n",
       "10   287446962  International S  \n",
       "24   288373962  International L  \n",
       "26   221633962            UK 12  "
      ]
     },
     "execution_count": 394,
     "metadata": {},
     "output_type": "execute_result"
    }
   ],
   "source": [
    "joined_frame =  pd.merge(events_frame, conv_proc_frame, how = 'inner', on=['uid','skuid'])\n",
    "joined_frame = joined_frame.drop_duplicates(keep='first', inplace=False)\n",
    "len(joined_frame)\n",
    "joined_frame.head(5)"
   ]
  },
  {
   "cell_type": "code",
   "execution_count": 396,
   "metadata": {},
   "outputs": [],
   "source": [
    "joined_frame[\"pur_size\"]= joined_frame[\"pur_size\"].str.replace('International', 'INT')  \n",
    "joined_frame[\"pur_size\"]= joined_frame[\"pur_size\"].str.replace('AUS', 'AU')  \n",
    "# joined_frame"
   ]
  },
  {
   "cell_type": "code",
   "execution_count": 397,
   "metadata": {},
   "outputs": [],
   "source": [
    "joined_frame['status'] = (joined_frame['pur_size'] == joined_frame['rec_size'])\n",
    "# joined_frame"
   ]
  },
  {
   "cell_type": "code",
   "execution_count": 398,
   "metadata": {},
   "outputs": [
    {
     "data": {
      "text/plain": [
       "False    76\n",
       "True     52\n",
       "Name: status, dtype: int64"
      ]
     },
     "execution_count": 398,
     "metadata": {},
     "output_type": "execute_result"
    }
   ],
   "source": [
    "joined_frame[\"status\"].value_counts()"
   ]
  },
  {
   "cell_type": "code",
   "execution_count": 399,
   "metadata": {},
   "outputs": [
    {
     "name": "stdout",
     "output_type": "stream",
     "text": [
      "91242\n"
     ]
    },
    {
     "data": {
      "text/html": [
       "<div>\n",
       "<style scoped>\n",
       "    .dataframe tbody tr th:only-of-type {\n",
       "        vertical-align: middle;\n",
       "    }\n",
       "\n",
       "    .dataframe tbody tr th {\n",
       "        vertical-align: top;\n",
       "    }\n",
       "\n",
       "    .dataframe thead th {\n",
       "        text-align: right;\n",
       "    }\n",
       "</style>\n",
       "<table border=\"1\" class=\"dataframe\">\n",
       "  <thead>\n",
       "    <tr style=\"text-align: right;\">\n",
       "      <th></th>\n",
       "      <th>rec_size</th>\n",
       "      <th>skuid</th>\n",
       "      <th>uid</th>\n",
       "      <th>transaction</th>\n",
       "      <th>pur_size</th>\n",
       "      <th>status</th>\n",
       "    </tr>\n",
       "  </thead>\n",
       "  <tbody>\n",
       "    <tr>\n",
       "      <th>0</th>\n",
       "      <td>UK 12</td>\n",
       "      <td>3DAA0AABEBC5BDGS</td>\n",
       "      <td>f20f9aff-650d-49d9-9e6a-f692408dd254</td>\n",
       "      <td>282242962</td>\n",
       "      <td>UK 8</td>\n",
       "      <td>False</td>\n",
       "    </tr>\n",
       "    <tr>\n",
       "      <th>3</th>\n",
       "      <td>NA</td>\n",
       "      <td>BAB9CAA0751876GS</td>\n",
       "      <td>0c349735-c293-4731-ae90-451b8a1da885</td>\n",
       "      <td>221356962</td>\n",
       "      <td>INT M</td>\n",
       "      <td>False</td>\n",
       "    </tr>\n",
       "    <tr>\n",
       "      <th>10</th>\n",
       "      <td>INT S</td>\n",
       "      <td>DC36EAA41E4DE5GS</td>\n",
       "      <td>84f75922-300e-487a-b5bc-401ed94c2648</td>\n",
       "      <td>287446962</td>\n",
       "      <td>INT S</td>\n",
       "      <td>True</td>\n",
       "    </tr>\n",
       "    <tr>\n",
       "      <th>24</th>\n",
       "      <td>INT XL</td>\n",
       "      <td>9E755AA95CCA32GS</td>\n",
       "      <td>2bee3c8f-ae5a-40c2-a3a7-39a66f26bbab</td>\n",
       "      <td>288373962</td>\n",
       "      <td>INT L</td>\n",
       "      <td>False</td>\n",
       "    </tr>\n",
       "    <tr>\n",
       "      <th>26</th>\n",
       "      <td>NA</td>\n",
       "      <td>8262BAAD3340B1GS</td>\n",
       "      <td>047b4f95-6e0a-47f9-9d21-a731a930653c</td>\n",
       "      <td>221633962</td>\n",
       "      <td>UK 12</td>\n",
       "      <td>False</td>\n",
       "    </tr>\n",
       "  </tbody>\n",
       "</table>\n",
       "</div>"
      ],
      "text/plain": [
       "   rec_size             skuid                                   uid  \\\n",
       "0     UK 12  3DAA0AABEBC5BDGS  f20f9aff-650d-49d9-9e6a-f692408dd254   \n",
       "3        NA  BAB9CAA0751876GS  0c349735-c293-4731-ae90-451b8a1da885   \n",
       "10    INT S  DC36EAA41E4DE5GS  84f75922-300e-487a-b5bc-401ed94c2648   \n",
       "24   INT XL  9E755AA95CCA32GS  2bee3c8f-ae5a-40c2-a3a7-39a66f26bbab   \n",
       "26       NA  8262BAAD3340B1GS  047b4f95-6e0a-47f9-9d21-a731a930653c   \n",
       "\n",
       "   transaction pur_size  status  \n",
       "0    282242962     UK 8   False  \n",
       "3    221356962    INT M   False  \n",
       "10   287446962    INT S    True  \n",
       "24   288373962    INT L   False  \n",
       "26   221633962    UK 12   False  "
      ]
     },
     "execution_count": 399,
     "metadata": {},
     "output_type": "execute_result"
    }
   ],
   "source": [
    "#Total SKU IDs from returns\n",
    "ret_sku_ids=returns['SKU ID'].tolist()\n",
    "print(len(ret_sku_ids))\n",
    "joined_frame.head(5)"
   ]
  },
  {
   "cell_type": "code",
   "execution_count": 400,
   "metadata": {},
   "outputs": [
    {
     "name": "stdout",
     "output_type": "stream",
     "text": [
      "128\n"
     ]
    }
   ],
   "source": [
    "#SKU IDs from conversions for which size was recommended \n",
    "p_sku_ids = joined_frame['skuid'].tolist()\n",
    "print(len(p_sku_ids))"
   ]
  },
  {
   "cell_type": "code",
   "execution_count": 401,
   "metadata": {},
   "outputs": [
    {
     "data": {
      "text/plain": [
       "98"
      ]
     },
     "execution_count": 401,
     "metadata": {},
     "output_type": "execute_result"
    }
   ],
   "source": [
    "#Returned SKU IDs and purchased SKU IDs\n",
    "matches = set(p_sku_ids) & set(ret_sku_ids)\n",
    "p_returned = list(matches)\n",
    "len(p_returned)"
   ]
  },
  {
   "cell_type": "code",
   "execution_count": 410,
   "metadata": {},
   "outputs": [],
   "source": [
    "true_sku = []\n",
    "false_sku= []\n",
    "\n",
    "for index, row in joined_frame.iterrows():\n",
    "#     print(row)\n",
    "    if row['status'] == True:\n",
    "        true_sku.append(row['skuid'])\n",
    "    else:\n",
    "        false_sku.append(row['skuid'])\n",
    "\n",
    "tot_true = len(true_sku)\n",
    "tot_false = len(false_sku)"
   ]
  },
  {
   "cell_type": "code",
   "execution_count": 416,
   "metadata": {},
   "outputs": [],
   "source": [
    "m = set(true_sku) & set(p_returned)\n",
    "mat_true = (len(list(m)))"
   ]
  },
  {
   "cell_type": "code",
   "execution_count": 417,
   "metadata": {},
   "outputs": [],
   "source": [
    "m1 = set(false_sku) & set(p_returned)\n",
    "mat_false = len(list(m1))"
   ]
  },
  {
   "cell_type": "code",
   "execution_count": 420,
   "metadata": {},
   "outputs": [
    {
     "data": {
      "text/plain": [
       "0.8461538461538461"
      ]
     },
     "execution_count": 420,
     "metadata": {},
     "output_type": "execute_result"
    }
   ],
   "source": [
    "#Choice same as recommendation - Sales/Return Rate\n",
    "ret_rate_rec_true=mat_true/tot_true\n",
    "ret_rate_rec_true"
   ]
  },
  {
   "cell_type": "code",
   "execution_count": 421,
   "metadata": {},
   "outputs": [
    {
     "data": {
      "text/plain": [
       "0.8026315789473685"
      ]
     },
     "execution_count": 421,
     "metadata": {},
     "output_type": "execute_result"
    }
   ],
   "source": [
    "#Choice not same as recommendation - - Sales/Return Rate\n",
    "ret_rate_rec_false=mat_false/tot_false\n",
    "ret_rate_rec_false"
   ]
  },
  {
   "cell_type": "code",
   "execution_count": null,
   "metadata": {},
   "outputs": [],
   "source": []
  }
 ],
 "metadata": {
  "kernelspec": {
   "display_name": "Python 3",
   "language": "python",
   "name": "python3"
  },
  "language_info": {
   "codemirror_mode": {
    "name": "ipython",
    "version": 3
   },
   "file_extension": ".py",
   "mimetype": "text/x-python",
   "name": "python",
   "nbconvert_exporter": "python",
   "pygments_lexer": "ipython3",
   "version": "3.6.4"
  }
 },
 "nbformat": 4,
 "nbformat_minor": 2
}
