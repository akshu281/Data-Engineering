{
 "cells": [
  {
   "cell_type": "code",
   "execution_count": 82,
   "metadata": {},
   "outputs": [],
   "source": [
    "import pandas as pd\n",
    "import json\n",
    "import dateutil.parser\n",
    "import numpy as np"
   ]
  },
  {
   "cell_type": "code",
   "execution_count": 90,
   "metadata": {},
   "outputs": [
    {
     "name": "stderr",
     "output_type": "stream",
     "text": [
      "c:\\users\\akshaya balamurugan\\appdata\\local\\programs\\python\\python36\\lib\\site-packages\\IPython\\core\\interactiveshell.py:2785: DtypeWarning: Columns (3,6,7) have mixed types. Specify dtype option on import or set low_memory=False.\n",
      "  interactivity=interactivity, compiler=compiler, result=result)\n"
     ]
    }
   ],
   "source": [
    "data = pd.read_csv(\"data_science_exchanges_returns.csv\",sep='\\t') "
   ]
  },
  {
   "cell_type": "code",
   "execution_count": 91,
   "metadata": {},
   "outputs": [
    {
     "data": {
      "text/html": [
       "<div>\n",
       "<style scoped>\n",
       "    .dataframe tbody tr th:only-of-type {\n",
       "        vertical-align: middle;\n",
       "    }\n",
       "\n",
       "    .dataframe tbody tr th {\n",
       "        vertical-align: top;\n",
       "    }\n",
       "\n",
       "    .dataframe thead th {\n",
       "        text-align: right;\n",
       "    }\n",
       "</style>\n",
       "<table border=\"1\" class=\"dataframe\">\n",
       "  <thead>\n",
       "    <tr style=\"text-align: right;\">\n",
       "      <th></th>\n",
       "      <th>Country</th>\n",
       "      <th>Order nr</th>\n",
       "      <th>SKU ID</th>\n",
       "      <th>Reason Name</th>\n",
       "      <th>original_size_system_name</th>\n",
       "      <th>original_size_name</th>\n",
       "      <th>exchanged_size_system_name</th>\n",
       "      <th>exchanged_size_name</th>\n",
       "    </tr>\n",
       "  </thead>\n",
       "  <tbody>\n",
       "    <tr>\n",
       "      <th>0</th>\n",
       "      <td>ph</td>\n",
       "      <td>239748222.0</td>\n",
       "      <td>EV032US96WVNPH</td>\n",
       "      <td>1._size_does_not_fit_-_too_large</td>\n",
       "      <td>International</td>\n",
       "      <td>One Size</td>\n",
       "      <td>NaN</td>\n",
       "      <td>NaN</td>\n",
       "    </tr>\n",
       "    <tr>\n",
       "      <th>1</th>\n",
       "      <td>ph</td>\n",
       "      <td>251645722.0</td>\n",
       "      <td>CH672SH32LPNPH</td>\n",
       "      <td>2._size_does_not_fit_-_too_small</td>\n",
       "      <td>US</td>\n",
       "      <td>7</td>\n",
       "      <td>NaN</td>\n",
       "      <td>NaN</td>\n",
       "    </tr>\n",
       "    <tr>\n",
       "      <th>2</th>\n",
       "      <td>ph</td>\n",
       "      <td>235646762.0</td>\n",
       "      <td>EM520AC06VDDPH</td>\n",
       "      <td>1._size_does_not_fit_-_too_large</td>\n",
       "      <td>International</td>\n",
       "      <td>One Size</td>\n",
       "      <td>NaN</td>\n",
       "      <td>NaN</td>\n",
       "    </tr>\n",
       "    <tr>\n",
       "      <th>3</th>\n",
       "      <td>ph</td>\n",
       "      <td>275962462.0</td>\n",
       "      <td>RU506SH93IHUMY</td>\n",
       "      <td>1._size_does_not_fit_-_too_large</td>\n",
       "      <td>EU</td>\n",
       "      <td>36</td>\n",
       "      <td>NaN</td>\n",
       "      <td>NaN</td>\n",
       "    </tr>\n",
       "    <tr>\n",
       "      <th>4</th>\n",
       "      <td>ph</td>\n",
       "      <td>259521762.0</td>\n",
       "      <td>MC141AC39HVKPH</td>\n",
       "      <td>2._size_does_not_fit_-_too_small</td>\n",
       "      <td>US</td>\n",
       "      <td>M</td>\n",
       "      <td>NaN</td>\n",
       "      <td>NaN</td>\n",
       "    </tr>\n",
       "  </tbody>\n",
       "</table>\n",
       "</div>"
      ],
      "text/plain": [
       "  Country     Order nr          SKU ID                       Reason Name  \\\n",
       "0      ph  239748222.0  EV032US96WVNPH  1._size_does_not_fit_-_too_large   \n",
       "1      ph  251645722.0  CH672SH32LPNPH  2._size_does_not_fit_-_too_small   \n",
       "2      ph  235646762.0  EM520AC06VDDPH  1._size_does_not_fit_-_too_large   \n",
       "3      ph  275962462.0  RU506SH93IHUMY  1._size_does_not_fit_-_too_large   \n",
       "4      ph  259521762.0  MC141AC39HVKPH  2._size_does_not_fit_-_too_small   \n",
       "\n",
       "  original_size_system_name original_size_name exchanged_size_system_name  \\\n",
       "0             International           One Size                        NaN   \n",
       "1                        US                  7                        NaN   \n",
       "2             International           One Size                        NaN   \n",
       "3                        EU                 36                        NaN   \n",
       "4                        US                  M                        NaN   \n",
       "\n",
       "  exchanged_size_name  \n",
       "0                 NaN  \n",
       "1                 NaN  \n",
       "2                 NaN  \n",
       "3                 NaN  \n",
       "4                 NaN  "
      ]
     },
     "execution_count": 91,
     "metadata": {},
     "output_type": "execute_result"
    }
   ],
   "source": [
    "data.head()\n",
    "# data.shape - (387055, 8)"
   ]
  },
  {
   "cell_type": "code",
   "execution_count": 97,
   "metadata": {},
   "outputs": [
    {
     "name": "stderr",
     "output_type": "stream",
     "text": [
      "c:\\users\\akshaya balamurugan\\appdata\\local\\programs\\python\\python36\\lib\\site-packages\\ipykernel_launcher.py:4: SettingWithCopyWarning: \n",
      "A value is trying to be set on a copy of a slice from a DataFrame.\n",
      "Try using .loc[row_indexer,col_indexer] = value instead\n",
      "\n",
      "See the caveats in the documentation: http://pandas.pydata.org/pandas-docs/stable/indexing.html#indexing-view-versus-copy\n",
      "  after removing the cwd from sys.path.\n"
     ]
    },
    {
     "data": {
      "text/html": [
       "<div>\n",
       "<style scoped>\n",
       "    .dataframe tbody tr th:only-of-type {\n",
       "        vertical-align: middle;\n",
       "    }\n",
       "\n",
       "    .dataframe tbody tr th {\n",
       "        vertical-align: top;\n",
       "    }\n",
       "\n",
       "    .dataframe thead th {\n",
       "        text-align: right;\n",
       "    }\n",
       "</style>\n",
       "<table border=\"1\" class=\"dataframe\">\n",
       "  <thead>\n",
       "    <tr style=\"text-align: right;\">\n",
       "      <th></th>\n",
       "      <th>Country</th>\n",
       "      <th>Order nr</th>\n",
       "      <th>SKU ID</th>\n",
       "      <th>Reason Name</th>\n",
       "      <th>original_size_system_name</th>\n",
       "      <th>original_size_name</th>\n",
       "      <th>exchanged_size_system_name</th>\n",
       "      <th>exchanged_size_name</th>\n",
       "    </tr>\n",
       "  </thead>\n",
       "  <tbody>\n",
       "    <tr>\n",
       "      <th>0</th>\n",
       "      <td>ph</td>\n",
       "      <td>239748222</td>\n",
       "      <td>EV032US96WVNPH</td>\n",
       "      <td>1._size_does_not_fit_-_too_large</td>\n",
       "      <td>International</td>\n",
       "      <td>One Size</td>\n",
       "      <td>NaN</td>\n",
       "      <td>NaN</td>\n",
       "    </tr>\n",
       "    <tr>\n",
       "      <th>1</th>\n",
       "      <td>ph</td>\n",
       "      <td>251645722</td>\n",
       "      <td>CH672SH32LPNPH</td>\n",
       "      <td>2._size_does_not_fit_-_too_small</td>\n",
       "      <td>US</td>\n",
       "      <td>7</td>\n",
       "      <td>NaN</td>\n",
       "      <td>NaN</td>\n",
       "    </tr>\n",
       "    <tr>\n",
       "      <th>2</th>\n",
       "      <td>ph</td>\n",
       "      <td>235646762</td>\n",
       "      <td>EM520AC06VDDPH</td>\n",
       "      <td>1._size_does_not_fit_-_too_large</td>\n",
       "      <td>International</td>\n",
       "      <td>One Size</td>\n",
       "      <td>NaN</td>\n",
       "      <td>NaN</td>\n",
       "    </tr>\n",
       "    <tr>\n",
       "      <th>3</th>\n",
       "      <td>ph</td>\n",
       "      <td>275962462</td>\n",
       "      <td>RU506SH93IHUMY</td>\n",
       "      <td>1._size_does_not_fit_-_too_large</td>\n",
       "      <td>EU</td>\n",
       "      <td>36</td>\n",
       "      <td>NaN</td>\n",
       "      <td>NaN</td>\n",
       "    </tr>\n",
       "    <tr>\n",
       "      <th>4</th>\n",
       "      <td>ph</td>\n",
       "      <td>259521762</td>\n",
       "      <td>MC141AC39HVKPH</td>\n",
       "      <td>2._size_does_not_fit_-_too_small</td>\n",
       "      <td>US</td>\n",
       "      <td>M</td>\n",
       "      <td>NaN</td>\n",
       "      <td>NaN</td>\n",
       "    </tr>\n",
       "  </tbody>\n",
       "</table>\n",
       "</div>"
      ],
      "text/plain": [
       "  Country   Order nr          SKU ID                       Reason Name  \\\n",
       "0      ph  239748222  EV032US96WVNPH  1._size_does_not_fit_-_too_large   \n",
       "1      ph  251645722  CH672SH32LPNPH  2._size_does_not_fit_-_too_small   \n",
       "2      ph  235646762  EM520AC06VDDPH  1._size_does_not_fit_-_too_large   \n",
       "3      ph  275962462  RU506SH93IHUMY  1._size_does_not_fit_-_too_large   \n",
       "4      ph  259521762  MC141AC39HVKPH  2._size_does_not_fit_-_too_small   \n",
       "\n",
       "  original_size_system_name original_size_name exchanged_size_system_name  \\\n",
       "0             International           One Size                        NaN   \n",
       "1                        US                  7                        NaN   \n",
       "2             International           One Size                        NaN   \n",
       "3                        EU                 36                        NaN   \n",
       "4                        US                  M                        NaN   \n",
       "\n",
       "  exchanged_size_name  \n",
       "0                 NaN  \n",
       "1                 NaN  \n",
       "2                 NaN  \n",
       "3                 NaN  \n",
       "4                 NaN  "
      ]
     },
     "execution_count": 97,
     "metadata": {},
     "output_type": "execute_result"
    }
   ],
   "source": [
    "returns = data.dropna(subset=['Reason Name'])\n",
    "returns[returns['Reason Name'].str.contains('_size_does_not_fit_')]\n",
    "# returns.shape - (91242, 8)\n",
    "returns['Order nr'] = returns['Order nr'].astype(np.int32)\n",
    "returns.head()"
   ]
  },
  {
   "cell_type": "code",
   "execution_count": 5,
   "metadata": {},
   "outputs": [
    {
     "data": {
      "text/plain": [
       "62482"
      ]
     },
     "execution_count": 5,
     "metadata": {},
     "output_type": "execute_result"
    }
   ],
   "source": [
    "conv_data = [json.loads(line) for line in open('data_science_test_conversions.json', encoding=\"utf8\")]\n",
    "len(conv_data)"
   ]
  },
  {
   "cell_type": "code",
   "execution_count": 6,
   "metadata": {},
   "outputs": [
    {
     "data": {
      "text/plain": [
       "222791"
      ]
     },
     "execution_count": 6,
     "metadata": {},
     "output_type": "execute_result"
    }
   ],
   "source": [
    "events_data = [json.loads(line) for line in open('size.json', encoding=\"utf8\")]\n",
    "len(events_data)"
   ]
  },
  {
   "cell_type": "code",
   "execution_count": 7,
   "metadata": {},
   "outputs": [
    {
     "data": {
      "text/plain": [
       "101855"
      ]
     },
     "execution_count": 7,
     "metadata": {},
     "output_type": "execute_result"
    }
   ],
   "source": [
    "skus_data = [json.loads(line) for line in open('data_science_test_skus.json', encoding=\"utf8\")]\n",
    "len(skus_data)"
   ]
  },
  {
   "cell_type": "code",
   "execution_count": 51,
   "metadata": {},
   "outputs": [
    {
     "data": {
      "text/plain": [
       "{'_index': 'tracking_prod',\n",
       " '_type': 'conversion',\n",
       " '_id': '8a8b6404-e312-4bef-98cd-df3637d09b2f',\n",
       " '_score': 7.5778923,\n",
       " '_source': {'uid': 'unknown',\n",
       "  'amount': '1394',\n",
       "  'clientId': 'ubu8zhxrh8hg',\n",
       "  'currency': 'PHP',\n",
       "  'transaction': '257871622',\n",
       "  'products': [{'quantity': 1,\n",
       "    'size': 'International L',\n",
       "    'price': '413.59',\n",
       "    'sku': '3AE72AA36B07C6GS'},\n",
       "   {'quantity': 1,\n",
       "    'size': 'International M',\n",
       "    'price': '465.36',\n",
       "    'sku': 'B9586AA24B4E70GS'},\n",
       "   {'quantity': 1,\n",
       "    'size': 'International M',\n",
       "    'price': '515.05',\n",
       "    'sku': '079A3AAEAB518DGS'}],\n",
       "  'timestamp': '2018-11-09T05:59:08.254Z'}}"
      ]
     },
     "execution_count": 51,
     "metadata": {},
     "output_type": "execute_result"
    }
   ],
   "source": [
    "conv_data[0]"
   ]
  },
  {
   "cell_type": "code",
   "execution_count": 107,
   "metadata": {},
   "outputs": [
    {
     "name": "stdout",
     "output_type": "stream",
     "text": [
      "18219\n",
      "20534\n",
      "21351\n",
      "38153\n",
      "38154\n",
      "46146\n",
      "46755\n",
      "50250\n",
      "53555\n",
      "57947\n"
     ]
    }
   ],
   "source": [
    "prods=[]\n",
    "timestamp=[]\n",
    "transactions=[]\n",
    "for j in range(len(conv_data)):\n",
    "    temp=conv_data[j]\n",
    "    try:\n",
    "        transactions.append(int(temp['_source']['transaction']))\n",
    "        prods.append(temp['_source']['products'])\n",
    "        timestamp.append(temp['_source']['timestamp'])\n",
    "    except:\n",
    "        print(j)\n",
    "        continue\n",
    "        \n",
    "# i = conv_data[38153]\n",
    "# print(i['_source']['uid'])"
   ]
  },
  {
   "cell_type": "code",
   "execution_count": 112,
   "metadata": {},
   "outputs": [
    {
     "data": {
      "text/plain": [
       "0    {'uid': 'unknown', 'amount': '1394', 'clientId...\n",
       "1    {'uid': '0fc636a4-a03f-493d-8122-64f98c12e6df'...\n",
       "2    {'uid': '3c3c50b0-99a2-494e-8228-b559eafccc02'...\n",
       "3    {'uid': 'unknown', 'amount': '1299', 'clientId...\n",
       "4    {'uid': 'unknown', 'amount': '2091.56', 'clien...\n",
       "Name: _source, dtype: object"
      ]
     },
     "execution_count": 112,
     "metadata": {},
     "output_type": "execute_result"
    }
   ],
   "source": [
    "conversion = pd.DataFrame(conv_data)\n",
    "type(conversion)\n",
    "conversion['_source'].head()"
   ]
  },
  {
   "cell_type": "code",
   "execution_count": 106,
   "metadata": {},
   "outputs": [
    {
     "name": "stdout",
     "output_type": "stream",
     "text": [
      "62472\n",
      "62472\n",
      "62476\n"
     ]
    }
   ],
   "source": [
    "print(len(prods))\n",
    "print(len(timestamp))\n",
    "print(len(transactions))\n",
    "# dateutil.parser.parse(timestamp[0])"
   ]
  },
  {
   "cell_type": "code",
   "execution_count": 67,
   "metadata": {},
   "outputs": [],
   "source": [
    "import csv\n",
    "resultFyle = open(\"output.csv\",'w')\n",
    "\n",
    "# Write data to file\n",
    "for r in transactions:\n",
    "    resultFyle.write(r + \"\\n\")\n",
    "resultFyle.close()"
   ]
  },
  {
   "cell_type": "code",
   "execution_count": 110,
   "metadata": {},
   "outputs": [
    {
     "data": {
      "text/plain": [
       "(6005, 8)"
      ]
     },
     "execution_count": 110,
     "metadata": {},
     "output_type": "execute_result"
    }
   ],
   "source": [
    "#Returns and Transactions CSV compared\n",
    "temp = returns[returns['Order nr'].isin(transactions)]\n",
    "temp.shape"
   ]
  },
  {
   "cell_type": "code",
   "execution_count": null,
   "metadata": {},
   "outputs": [],
   "source": []
  }
 ],
 "metadata": {
  "kernelspec": {
   "display_name": "Python 3",
   "language": "python",
   "name": "python3"
  },
  "language_info": {
   "codemirror_mode": {
    "name": "ipython",
    "version": 3
   },
   "file_extension": ".py",
   "mimetype": "text/x-python",
   "name": "python",
   "nbconvert_exporter": "python",
   "pygments_lexer": "ipython3",
   "version": "3.6.4"
  }
 },
 "nbformat": 4,
 "nbformat_minor": 2
}
