{
 "cells": [
  {
   "cell_type": "code",
   "execution_count": 1,
   "metadata": {},
   "outputs": [],
   "source": [
    "import pandas as pd\n",
    "import json\n",
    "import dateutil.parser\n",
    "import numpy as np"
   ]
  },
  {
   "cell_type": "code",
   "execution_count": 2,
   "metadata": {},
   "outputs": [
    {
     "name": "stderr",
     "output_type": "stream",
     "text": [
      "c:\\users\\akshaya balamurugan\\appdata\\local\\programs\\python\\python36\\lib\\site-packages\\IPython\\core\\interactiveshell.py:2785: DtypeWarning: Columns (3,6,7) have mixed types. Specify dtype option on import or set low_memory=False.\n",
      "  interactivity=interactivity, compiler=compiler, result=result)\n"
     ]
    }
   ],
   "source": [
    "data = pd.read_csv(\"data_science_exchanges_returns.csv\",sep='\\t') "
   ]
  },
  {
   "cell_type": "code",
   "execution_count": 3,
   "metadata": {},
   "outputs": [
    {
     "name": "stderr",
     "output_type": "stream",
     "text": [
      "c:\\users\\akshaya balamurugan\\appdata\\local\\programs\\python\\python36\\lib\\site-packages\\ipykernel_launcher.py:5: SettingWithCopyWarning: \n",
      "A value is trying to be set on a copy of a slice from a DataFrame.\n",
      "Try using .loc[row_indexer,col_indexer] = value instead\n",
      "\n",
      "See the caveats in the documentation: http://pandas.pydata.org/pandas-docs/stable/indexing.html#indexing-view-versus-copy\n",
      "  \"\"\"\n"
     ]
    },
    {
     "data": {
      "text/html": [
       "<div>\n",
       "<style scoped>\n",
       "    .dataframe tbody tr th:only-of-type {\n",
       "        vertical-align: middle;\n",
       "    }\n",
       "\n",
       "    .dataframe tbody tr th {\n",
       "        vertical-align: top;\n",
       "    }\n",
       "\n",
       "    .dataframe thead th {\n",
       "        text-align: right;\n",
       "    }\n",
       "</style>\n",
       "<table border=\"1\" class=\"dataframe\">\n",
       "  <thead>\n",
       "    <tr style=\"text-align: right;\">\n",
       "      <th></th>\n",
       "      <th>Country</th>\n",
       "      <th>Order nr</th>\n",
       "      <th>SKU ID</th>\n",
       "      <th>Reason Name</th>\n",
       "      <th>original_size_system_name</th>\n",
       "      <th>original_size_name</th>\n",
       "      <th>exchanged_size_system_name</th>\n",
       "      <th>exchanged_size_name</th>\n",
       "    </tr>\n",
       "  </thead>\n",
       "  <tbody>\n",
       "    <tr>\n",
       "      <th>0</th>\n",
       "      <td>ph</td>\n",
       "      <td>239748222</td>\n",
       "      <td>EV032US96WVNPH</td>\n",
       "      <td>1._size_does_not_fit_-_too_large</td>\n",
       "      <td>International</td>\n",
       "      <td>One Size</td>\n",
       "      <td>NaN</td>\n",
       "      <td>NaN</td>\n",
       "    </tr>\n",
       "    <tr>\n",
       "      <th>1</th>\n",
       "      <td>ph</td>\n",
       "      <td>251645722</td>\n",
       "      <td>CH672SH32LPNPH</td>\n",
       "      <td>2._size_does_not_fit_-_too_small</td>\n",
       "      <td>US</td>\n",
       "      <td>7</td>\n",
       "      <td>NaN</td>\n",
       "      <td>NaN</td>\n",
       "    </tr>\n",
       "    <tr>\n",
       "      <th>2</th>\n",
       "      <td>ph</td>\n",
       "      <td>235646762</td>\n",
       "      <td>EM520AC06VDDPH</td>\n",
       "      <td>1._size_does_not_fit_-_too_large</td>\n",
       "      <td>International</td>\n",
       "      <td>One Size</td>\n",
       "      <td>NaN</td>\n",
       "      <td>NaN</td>\n",
       "    </tr>\n",
       "    <tr>\n",
       "      <th>3</th>\n",
       "      <td>ph</td>\n",
       "      <td>275962462</td>\n",
       "      <td>RU506SH93IHUMY</td>\n",
       "      <td>1._size_does_not_fit_-_too_large</td>\n",
       "      <td>EU</td>\n",
       "      <td>36</td>\n",
       "      <td>NaN</td>\n",
       "      <td>NaN</td>\n",
       "    </tr>\n",
       "    <tr>\n",
       "      <th>4</th>\n",
       "      <td>ph</td>\n",
       "      <td>259521762</td>\n",
       "      <td>MC141AC39HVKPH</td>\n",
       "      <td>2._size_does_not_fit_-_too_small</td>\n",
       "      <td>US</td>\n",
       "      <td>M</td>\n",
       "      <td>NaN</td>\n",
       "      <td>NaN</td>\n",
       "    </tr>\n",
       "  </tbody>\n",
       "</table>\n",
       "</div>"
      ],
      "text/plain": [
       "  Country   Order nr          SKU ID                       Reason Name  \\\n",
       "0      ph  239748222  EV032US96WVNPH  1._size_does_not_fit_-_too_large   \n",
       "1      ph  251645722  CH672SH32LPNPH  2._size_does_not_fit_-_too_small   \n",
       "2      ph  235646762  EM520AC06VDDPH  1._size_does_not_fit_-_too_large   \n",
       "3      ph  275962462  RU506SH93IHUMY  1._size_does_not_fit_-_too_large   \n",
       "4      ph  259521762  MC141AC39HVKPH  2._size_does_not_fit_-_too_small   \n",
       "\n",
       "  original_size_system_name original_size_name exchanged_size_system_name  \\\n",
       "0             International           One Size                        NaN   \n",
       "1                        US                  7                        NaN   \n",
       "2             International           One Size                        NaN   \n",
       "3                        EU                 36                        NaN   \n",
       "4                        US                  M                        NaN   \n",
       "\n",
       "  exchanged_size_name  \n",
       "0                 NaN  \n",
       "1                 NaN  \n",
       "2                 NaN  \n",
       "3                 NaN  \n",
       "4                 NaN  "
      ]
     },
     "execution_count": 3,
     "metadata": {},
     "output_type": "execute_result"
    }
   ],
   "source": [
    "#Filtered by reason from the ecxhanges data\n",
    "returns = data.dropna(subset=['Reason Name'])\n",
    "returns[returns['Reason Name'].str.contains('_size_does_not_fit_')]\n",
    "# returns.shape - (91242, 8)\n",
    "returns['Order nr'] = returns['Order nr'].astype(np.int32)\n",
    "returns.head()"
   ]
  },
  {
   "cell_type": "code",
   "execution_count": 4,
   "metadata": {},
   "outputs": [
    {
     "data": {
      "text/plain": [
       "101855"
      ]
     },
     "execution_count": 4,
     "metadata": {},
     "output_type": "execute_result"
    }
   ],
   "source": [
    "skus_data = [json.loads(line) for line in open('data_science_test_skus.json', encoding=\"utf8\")]\n",
    "len(skus_data)"
   ]
  },
  {
   "cell_type": "code",
   "execution_count": 5,
   "metadata": {},
   "outputs": [
    {
     "data": {
      "text/plain": [
       "4705"
      ]
     },
     "execution_count": 5,
     "metadata": {},
     "output_type": "execute_result"
    }
   ],
   "source": [
    "#Filtered conversions for Feb 1st to Feb 28th out of 62482 records from data_science_test_conversions.json\n",
    "conv_data = [json.loads(line) for line in open('transactions.json', encoding=\"utf8\")]\n",
    "len(conv_data)"
   ]
  },
  {
   "cell_type": "code",
   "execution_count": 7,
   "metadata": {},
   "outputs": [
    {
     "data": {
      "text/plain": [
       "20894"
      ]
     },
     "execution_count": 7,
     "metadata": {},
     "output_type": "execute_result"
    }
   ],
   "source": [
    "#Filtered events for Feb 1st to Feb 28th with eventType = 'size' (recommedation was made) out of 222791 records from 'data_science_test_events' with eventType = 'size'\n",
    "events_data = [json.loads(line) for line in open('events.json', encoding=\"utf8\")]\n",
    "len(events_data)"
   ]
  },
  {
   "cell_type": "code",
   "execution_count": 94,
   "metadata": {},
   "outputs": [
    {
     "data": {
      "text/plain": [
       "20894"
      ]
     },
     "execution_count": 94,
     "metadata": {},
     "output_type": "execute_result"
    }
   ],
   "source": [
    "#Extract SKU IDs from events JSON\n",
    "sku_ids = []\n",
    "for i in range(len(events_data)):\n",
    "    temp=events_data[i]\n",
    "    try:\n",
    "        sku_ids.append(temp['_source']['response']['skuId'])\n",
    "    except:\n",
    "        print(i)\n",
    "len(sku_ids)"
   ]
  },
  {
   "cell_type": "code",
   "execution_count": 95,
   "metadata": {},
   "outputs": [],
   "source": [
    "#Sample data for extraction\n",
    "# temp = conv_data[930]\n",
    "# temp\n",
    "# x = temp['_source']['products']\n",
    "# for x_ in range(len(x)):\n",
    "#     print(x[x_])\n",
    "#     print(x[x_]['sku'])"
   ]
  },
  {
   "cell_type": "code",
   "execution_count": 96,
   "metadata": {},
   "outputs": [
    {
     "data": {
      "text/plain": [
       "8600"
      ]
     },
     "execution_count": 96,
     "metadata": {},
     "output_type": "execute_result"
    }
   ],
   "source": [
    "#Extract SKU IDs from conversions JSON\n",
    "conv_sku_ids = []\n",
    "for j in range(len(conv_data)):\n",
    "    t_ = conv_data[j]\n",
    "    x = t_['_source']['products']\n",
    "    for x_ in range(len(x)):\n",
    "        conv_sku_ids.append((x[x_]['sku']))\n",
    "\n",
    "len(conv_sku_ids)"
   ]
  },
  {
   "cell_type": "code",
   "execution_count": 97,
   "metadata": {},
   "outputs": [
    {
     "data": {
      "text/plain": [
       "8578"
      ]
     },
     "execution_count": 97,
     "metadata": {},
     "output_type": "execute_result"
    }
   ],
   "source": [
    "#Removing undefined SKU IDs if any present\n",
    "from functools import partial\n",
    "from operator import ne\n",
    "dup = filter(partial(ne, 'undefined'), conv_sku_ids)\n",
    "conv_sku_ids_dup = list(dup)\n",
    "len(conv_sku_ids_dup) #22"
   ]
  },
  {
   "cell_type": "code",
   "execution_count": 98,
   "metadata": {},
   "outputs": [
    {
     "data": {
      "text/plain": [
       "1074"
      ]
     },
     "execution_count": 98,
     "metadata": {},
     "output_type": "execute_result"
    }
   ],
   "source": [
    "#Compare it with transactions JSON to check if the recommended product was purchased\n",
    "matches = set(sku_ids) & set(conv_sku_ids_dup)\n",
    "hits_sku_ids = list(matches)\n",
    "p_purchased = len(hits_sku_ids) #1074\n",
    "p_purchased"
   ]
  },
  {
   "cell_type": "code",
   "execution_count": 99,
   "metadata": {},
   "outputs": [
    {
     "name": "stdout",
     "output_type": "stream",
     "text": [
      "91242\n"
     ]
    }
   ],
   "source": [
    "ret_sku_ids=returns['SKU ID'].tolist()\n",
    "print(len(ret_sku_ids))"
   ]
  },
  {
   "cell_type": "code",
   "execution_count": 100,
   "metadata": {},
   "outputs": [
    {
     "data": {
      "text/plain": [
       "907"
      ]
     },
     "execution_count": 100,
     "metadata": {},
     "output_type": "execute_result"
    }
   ],
   "source": [
    "ret_hit = set(ret_sku_ids) & set(hits_sku_ids)\n",
    "ret_hit = list(ret_hit)\n",
    "p_returned=len(ret_hit) #907\n",
    "p_returned"
   ]
  },
  {
   "cell_type": "code",
   "execution_count": 101,
   "metadata": {},
   "outputs": [
    {
     "data": {
      "text/plain": [
       "0.8445065176908753"
      ]
     },
     "execution_count": 101,
     "metadata": {},
     "output_type": "execute_result"
    }
   ],
   "source": [
    "#Pixibo influenced purchases - Size & Fit Return rate\n",
    "return_rate = p_returned/p_purchased\n",
    "return_rate"
   ]
  },
  {
   "cell_type": "code",
   "execution_count": 102,
   "metadata": {},
   "outputs": [],
   "source": [
    "# import csv\n",
    "# resultFyle = open(\"conv_sku.csv\",'w')\n",
    "\n",
    "# # Write data to file\n",
    "# for r in conv_sku_ids:\n",
    "#     resultFyle.write(r + \"\\n\")\n",
    "# resultFyle.close()"
   ]
  },
  {
   "cell_type": "code",
   "execution_count": 103,
   "metadata": {},
   "outputs": [
    {
     "data": {
      "text/plain": [
       "{'_id': 'afb2b405-5404-4e29-a8fc-34dae65677d5',\n",
       " '_index': 'tracking_prod',\n",
       " '_type': 'conversion',\n",
       " '_score': 7.5778923,\n",
       " '_source': {'uid': 'f6fb8346-1b77-4e7f-a631-cfb4b571ceb6',\n",
       "  'amount': '1150',\n",
       "  'clientId': 'ubu8zhxrh8hg',\n",
       "  'currency': 'PHP',\n",
       "  'transaction': '215325962',\n",
       "  'products': [{'quantity': 1,\n",
       "    'size': 'UK 10',\n",
       "    'price': '1150',\n",
       "    'sku': '79CE8US7578ECEGS'}],\n",
       "  'timestamp': '2019-02-07T08:49:49.141Z'},\n",
       " 'StringToDate': {'$date': '2019-02-07T08:49:49.141Z'}}"
      ]
     },
     "execution_count": 103,
     "metadata": {},
     "output_type": "execute_result"
    }
   ],
   "source": [
    "conv_data[0]"
   ]
  },
  {
   "cell_type": "code",
   "execution_count": 104,
   "metadata": {},
   "outputs": [
    {
     "data": {
      "text/plain": [
       "{'_id': '4d9bcb76-cbf6-4120-a7cf-1d0bc0cb7e8a',\n",
       " '_index': 'eventlogs_prod',\n",
       " '_type': 'log',\n",
       " '_score': 3.412435,\n",
       " '_source': {'uid': '31e4db3d-6377-4d00-b2a7-b8243572db0e',\n",
       "  'took': 18,\n",
       "  'clientId': 'ubu8zhxrh8hg',\n",
       "  'response': {'fys': [{'size': 'INT L',\n",
       "     'confidence': 2,\n",
       "     'bust': 3,\n",
       "     'waist': 1,\n",
       "     'hip8Bit': 2,\n",
       "     'hip': 2,\n",
       "     'bust8Bit': 5,\n",
       "     'waist8Bit': 1,\n",
       "     'recommended': False},\n",
       "    {'size': 'INT XL',\n",
       "     'confidence': 3,\n",
       "     'bust': 4,\n",
       "     'waist': 2,\n",
       "     'hip8Bit': 5,\n",
       "     'hip': 3,\n",
       "     'bust8Bit': 7,\n",
       "     'waist8Bit': 2,\n",
       "     'recommended': True}],\n",
       "   'gcount': 5,\n",
       "   'gender': 'female',\n",
       "   'type': 'Dresses',\n",
       "   'skuId': 'CB29DAA678E645GS'},\n",
       "  'eventType': 'size',\n",
       "  'page': 'fyf',\n",
       "  'queryString': {'mode': 'showmore',\n",
       "   'bs': '36',\n",
       "   'uid': '31e4db3d-6377-4d00-b2a7-b8243572db0e',\n",
       "   'cu': 'b',\n",
       "   'ftp': '2',\n",
       "   'rg': 'us',\n",
       "   'ht': '157.5',\n",
       "   'wt': '72',\n",
       "   'age': '27',\n",
       "   'timestamp': '1548986437758'},\n",
       "  'skuId': 'cb29daa678e645gs',\n",
       "  'statusCode': 200,\n",
       "  'timestamp': '2019-02-01T02:00:37.331Z'},\n",
       " 'StringToDate': {'$date': '2019-02-01T02:00:37.331Z'}}"
      ]
     },
     "execution_count": 104,
     "metadata": {},
     "output_type": "execute_result"
    }
   ],
   "source": [
    "events_data[0]"
   ]
  },
  {
   "cell_type": "code",
   "execution_count": null,
   "metadata": {},
   "outputs": [],
   "source": []
  }
 ],
 "metadata": {
  "kernelspec": {
   "display_name": "Python 3",
   "language": "python",
   "name": "python3"
  },
  "language_info": {
   "codemirror_mode": {
    "name": "ipython",
    "version": 3
   },
   "file_extension": ".py",
   "mimetype": "text/x-python",
   "name": "python",
   "nbconvert_exporter": "python",
   "pygments_lexer": "ipython3",
   "version": "3.6.4"
  }
 },
 "nbformat": 4,
 "nbformat_minor": 2
}
